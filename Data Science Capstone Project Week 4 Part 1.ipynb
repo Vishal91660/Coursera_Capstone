{
 "cells": [
  {
   "cell_type": "markdown",
   "metadata": {},
   "source": [
    "# Data Science Capstone Project"
   ]
  },
  {
   "cell_type": "markdown",
   "metadata": {},
   "source": [
    "## Opening an New Restaurant in Kuala Lumpur, Malaysia"
   ]
  },
  {
   "cell_type": "markdown",
   "metadata": {},
   "source": [
    "## Background\n",
    "\n",
    "### Malaysia is a hub of tourist places with an annual footfall of about 26,100,800 in 2019. Whereas its capital city Kuala Lumpur welcomes around 11.4 million international tourists anually according to Mastercard. The arrival of large number of tourists in the capital city booms the local economy and promotes the development of local businesses like restauants, cafe's, shopping malls etc in the city and its neighbourhood places. The businessmen and investors from around the world are showing their interest in setting up new businesses in the city to get the handsome returns in future. The businessmen are searching for some best locations around the city to setup new restaurants to cater the ever growing demand of tourists and locals. They are searching for locations with minimal competition to avoid the risk of failure of their business. As squares already crowded with number of restaurants offers less scope for success of new restaurant.    \n",
    "\n"
   ]
  },
  {
   "cell_type": "markdown",
   "metadata": {},
   "source": [
    "![Alt text](https://embed.widencdn.net/img/visitorlando/agaw2vzklc/1920x747px/orlando-magical-dining-month.jpeg?keep=c&q=70&crop=yes&u=gqonyf&use=z4hwl)"
   ]
  },
  {
   "cell_type": "markdown",
   "metadata": {},
   "source": [
    "## Business Problem\n",
    "\n",
    "### The objective of this Capstone Project is to analyze the data using Data Science methodology and Machine Learning techniques like clustering to provide solutions to answer the business problem:  If a businessmen or investor is looking for some best locations with less competition to open a new restaurant in city Kuala Lumpur or its neighborhood, which places you will be recommending? \n"
   ]
  },
  {
   "cell_type": "markdown",
   "metadata": {},
   "source": [
    "## Target Audience\n",
    "\n",
    "### This project is particularly useful to businessmen and investors looking to open or invest in new restaurants in the capital city of Malaysia i.e. Kuala Lumpur. This project is timely as the city is currently suffering from oversupply of restaurants. Data from the National Property\n",
    "\n",
    "### Information Centre (NAPIC) released last year showed that an additional 15 per cent will be added to existing space, and the agency predicted that total occupancy may dip below 86 per cent. The local newspaper The Malay Mail also reported in March last year that the true occupancy rates in restaurants may be as low as 40 per cent in some areas, quoting a Financial Times (FT) article cataloguing the country's continued obsession with building more restaurants despite chronic oversupply.\n"
   ]
  }
 ],
 "metadata": {
  "kernelspec": {
   "display_name": "Python 3",
   "language": "python",
   "name": "python3"
  },
  "language_info": {
   "codemirror_mode": {
    "name": "ipython",
    "version": 3
   },
   "file_extension": ".py",
   "mimetype": "text/x-python",
   "name": "python",
   "nbconvert_exporter": "python",
   "pygments_lexer": "ipython3",
   "version": "3.7.6"
  }
 },
 "nbformat": 4,
 "nbformat_minor": 4
}
