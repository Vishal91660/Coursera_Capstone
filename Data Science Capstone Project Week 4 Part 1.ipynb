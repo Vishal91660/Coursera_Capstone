{
 "cells": [
  {
   "cell_type": "markdown",
   "metadata": {},
   "source": [
    "# Data Science Capstone Project"
   ]
  },
  {
   "cell_type": "markdown",
   "metadata": {},
   "source": [
    "## Opening an New Restaurant in Kuala Lumpur, Malaysia"
   ]
  },
  {
   "cell_type": "markdown",
   "metadata": {},
   "source": [
    "## Introduction\n",
    "\n",
    "### Malaysia is a hub of tourist places with an annual footfall of about 26,100,800 in 2019. Whereas its capital city Kuala Lumpur welcomes around 11.4 million according to Mastercard in 2019. With this local businesses are growing at a rate of 6.1% in the city. With growing economy and number of tourists the restaurant business in the city is also booming and with this the search for best locations to open a new restaurant in the city and its neighborhood is also increasing rapidly. The choice of correct location plays a crucial role in success of a restaurant. A place is termed as “correct location” depending on many factors in which one of the factor is number of restaurants already there in the neighborhood of that location. A square already overcrowded with restaurants offer little scope of success of a new restaurant. Hence businessmen or investors usually prefer locations with fewer crowds of restaurants. \n",
    "\n"
   ]
  },
  {
   "cell_type": "markdown",
   "metadata": {},
   "source": [
    "![Alt text](https://embed.widencdn.net/img/visitorlando/agaw2vzklc/1920x747px/orlando-magical-dining-month.jpeg?keep=c&q=70&crop=yes&u=gqonyf&use=z4hwl)"
   ]
  },
  {
   "cell_type": "markdown",
   "metadata": {},
   "source": [
    "## Business Problem\n",
    "\n",
    "### The objective of this Capstone Project is to analyze the data and select some best locations to open a new restaurant. Using Data Science methodology and Machine Learning techniques this project aims at providing solutions to answer the business problem:  If a businessmen or investor is looking for some best locations to open a new restaurant in city Kuala Lumpur or its neighborhood, which places you will be recommending? \n"
   ]
  },
  {
   "cell_type": "markdown",
   "metadata": {},
   "source": [
    "## Target Audience\n",
    "\n",
    "### This project is particularly useful to businessmen and investors looking to open or invest in new shopping malls in the capital city of Malaysia i.e. Kuala Lumpur. This project is timely as the city is currently suffering from oversupply of restaurants. Data from the National Property\n",
    "\n",
    "### Information Centre (NAPIC) released last year showed that an additional 15 per cent will be added to existing space, and the agency predicted that total occupancy may dip below 86 per cent. The local newspaper The Malay Mail also reported in March last year that the true occupancy rates in restaurants may be as low as 40 per cent in some areas, quoting a Financial Times (FT) article cataloguing the country's continued obsession with building more restaurants despite chronic oversupply.\n"
   ]
  }
 ],
 "metadata": {
  "kernelspec": {
   "display_name": "Python 3",
   "language": "python",
   "name": "python3"
  },
  "language_info": {
   "codemirror_mode": {
    "name": "ipython",
    "version": 3
   },
   "file_extension": ".py",
   "mimetype": "text/x-python",
   "name": "python",
   "nbconvert_exporter": "python",
   "pygments_lexer": "ipython3",
   "version": "3.7.6"
  }
 },
 "nbformat": 4,
 "nbformat_minor": 4
}
